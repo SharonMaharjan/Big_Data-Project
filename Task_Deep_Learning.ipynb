{
 "cells": [
  {
   "cell_type": "markdown",
   "metadata": {},
   "source": [
    "## Importing packages/modules"
   ]
  },
  {
   "cell_type": "code",
   "execution_count": null,
   "metadata": {},
   "outputs": [],
   "source": [
    "%pip install selenium\n",
    "%pip install requests\n",
    "%pip install Pillow"
   ]
  },
  {
   "cell_type": "code",
   "execution_count": 2,
   "metadata": {},
   "outputs": [],
   "source": [
    "from selenium import webdriver\n",
    "import time\n",
    "from selenium.webdriver.common.by import By\n",
    "from selenium.webdriver.common.keys import Keys\n",
    "import requests\n",
    "import base64\n",
    "# from PIL import Image\n",
    "# from io import BytesIO\n",
    "import os\n",
    "import zipfile\n",
    "\n",
    "import shutil"
   ]
  },
  {
   "cell_type": "markdown",
   "metadata": {},
   "source": [
    "## Google images scraping"
   ]
  },
  {
   "cell_type": "code",
   "execution_count": 3,
   "metadata": {},
   "outputs": [
    {
     "name": "stdout",
     "output_type": "stream",
     "text": [
      "20\n"
     ]
    },
    {
     "ename": "KeyboardInterrupt",
     "evalue": "",
     "output_type": "error",
     "traceback": [
      "\u001b[1;31m---------------------------------------------------------------------------\u001b[0m",
      "\u001b[1;31mKeyboardInterrupt\u001b[0m                         Traceback (most recent call last)",
      "\u001b[1;32mc:\\Users\\appel\\OneDrive\\Bureaublad\\school\\3AI\\Big_Data\\project\\Big_Data-Project\\Task_Deep_Learning.ipynb Cell 5\u001b[0m line \u001b[0;36m3\n\u001b[0;32m     <a href='vscode-notebook-cell:/c%3A/Users/appel/OneDrive/Bureaublad/school/3AI/Big_Data/project/Big_Data-Project/Task_Deep_Learning.ipynb#W4sZmlsZQ%3D%3D?line=32'>33</a>\u001b[0m \u001b[39mexcept\u001b[39;00m:\n\u001b[0;32m     <a href='vscode-notebook-cell:/c%3A/Users/appel/OneDrive/Bureaublad/school/3AI/Big_Data/project/Big_Data-Project/Task_Deep_Learning.ipynb#W4sZmlsZQ%3D%3D?line=33'>34</a>\u001b[0m     \u001b[39mpass\u001b[39;00m\n\u001b[1;32m---> <a href='vscode-notebook-cell:/c%3A/Users/appel/OneDrive/Bureaublad/school/3AI/Big_Data/project/Big_Data-Project/Task_Deep_Learning.ipynb#W4sZmlsZQ%3D%3D?line=36'>37</a>\u001b[0m time\u001b[39m.\u001b[39;49msleep(\u001b[39m3.5\u001b[39;49m)\n\u001b[0;32m     <a href='vscode-notebook-cell:/c%3A/Users/appel/OneDrive/Bureaublad/school/3AI/Big_Data/project/Big_Data-Project/Task_Deep_Learning.ipynb#W4sZmlsZQ%3D%3D?line=37'>38</a>\u001b[0m images \u001b[39m=\u001b[39m image_container\u001b[39m.\u001b[39mfind_elements(By\u001b[39m.\u001b[39mCLASS_NAME, \u001b[39m\"\u001b[39m\u001b[39mQ4LuWd\u001b[39m\u001b[39m\"\u001b[39m)\n\u001b[0;32m     <a href='vscode-notebook-cell:/c%3A/Users/appel/OneDrive/Bureaublad/school/3AI/Big_Data/project/Big_Data-Project/Task_Deep_Learning.ipynb#W4sZmlsZQ%3D%3D?line=39'>40</a>\u001b[0m \u001b[39mfor\u001b[39;00m image \u001b[39min\u001b[39;00m images:\n\u001b[0;32m     <a href='vscode-notebook-cell:/c%3A/Users/appel/OneDrive/Bureaublad/school/3AI/Big_Data/project/Big_Data-Project/Task_Deep_Learning.ipynb#W4sZmlsZQ%3D%3D?line=40'>41</a>\u001b[0m     \u001b[39m# Wait for the image to load\u001b[39;00m\n",
      "\u001b[1;31mKeyboardInterrupt\u001b[0m: "
     ]
    }
   ],
   "source": [
    "# Create a new instance of the Chrome driver\n",
    "driver = webdriver.Chrome()\n",
    "\n",
    "NUMBER_OF_IMAGES = 100\n",
    "\n",
    "# Define the categories\n",
    "categories = [\"roma tomato\", \"celebrity tomato\", \"green zebra tomato\", \"yellow pear tomato\", \"pineapple tomato\"]\n",
    "driver.get(f\"https://www.google.com/imghp\")\n",
    "deny_button = driver.find_element(By.CSS_SELECTOR, \".QS5gu.sy4vM\")\n",
    "deny_button.click()\n",
    "\n",
    "# Scrape the first images for each category\n",
    "for category in categories:\n",
    "    driver.get(f\"https://www.google.com/imghp\") # Google images\n",
    "    # Find the search bar and enter the search term\n",
    "    search_bar = driver.find_element(By.NAME, \"q\")\n",
    "    search_bar.send_keys(category)\n",
    "    search_bar.send_keys(Keys.RETURN)\n",
    "    driver.maximize_window()\n",
    "    time.sleep(3)\n",
    "    # Scroll down to load more images\n",
    "    image_container = driver.find_element(By.CLASS_NAME, \"mJxzWe\")\n",
    "\n",
    "    image_count = 0\n",
    "    image_urls = []\n",
    "    load_more_button = None\n",
    "    while image_count < NUMBER_OF_IMAGES:\n",
    "        driver.execute_script(\"window.scrollTo(0, document.body.scrollHeight);\")\n",
    "        load_more_button = None\n",
    "        try:\n",
    "            load_more_button = image_container.find_elements(By.CLASS_NAME, \"LZ4I\")[0]\n",
    "            if load_more_button != None:\n",
    "                load_more_button.click()\n",
    "                load_more_button = None\n",
    "        except:\n",
    "            pass\n",
    "\n",
    "        \n",
    "        time.sleep(3.5)\n",
    "        images = image_container.find_elements(By.CLASS_NAME, \"Q4LuWd\")\n",
    "        \n",
    "        for image in images:\n",
    "            # Wait for the image to load\n",
    "            while True:\n",
    "                if image.get_attribute(\"src\") != None:\n",
    "                    break\n",
    "                else:\n",
    "                    time.sleep(1)\n",
    "            image_url = image.get_attribute(\"src\")\n",
    "            if \"base64\" not in image_url and image != None:\n",
    "                image_urls.append(image_url)\n",
    "            if len(image_urls) == NUMBER_OF_IMAGES:\n",
    "                break  \n",
    "        image_count = len(image_urls)\n",
    "        print(image_count)\n",
    "\n",
    "    # Create a folder with category name and download the first 100 images inside it\n",
    "    folder_name = f\"./{category}\"\n",
    "    os.makedirs(folder_name, exist_ok=True)\n",
    "    for i in range(NUMBER_OF_IMAGES):\n",
    "            image_url = image_urls[i]\n",
    "            file_name = f\"{category}_{i+1}.jpg\"\n",
    "            file_path = os.path.join(folder_name, file_name)\n",
    "            file = open(file_path, \"wb\")\n",
    "            file.write(requests.get(image_url).content)\n",
    "            file.close()\n",
    "\n",
    "driver.quit()"
   ]
  },
  {
   "cell_type": "code",
   "execution_count": null,
   "metadata": {},
   "outputs": [
    {
     "data": {
      "text/plain": [
       "'c:\\\\Users\\\\appel\\\\OneDrive\\\\Bureaublad\\\\school\\\\3AI\\\\Artificial_Intelligence\\\\code\\\\AI\\\\Lessons\\\\11. DL - Introduction to Deep Learning\\\\datasets.zip'"
      ]
     },
     "metadata": {},
     "output_type": "display_data"
    }
   ],
   "source": [
    "shutil.make_archive('datasets', 'zip', './datasets/')\n"
   ]
  }
 ],
 "metadata": {
  "accelerator": "GPU",
  "colab": {
   "authorship_tag": "ABX9TyOL00iWsbKR3tJD1mDkcc/s",
   "gpuType": "T4",
   "mount_file_id": "1nZN_Lhf-L8jAKhlBzVyaSRo0DzyvHhDT",
   "provenance": []
  },
  "kernelspec": {
   "display_name": "Python 3 (ipykernel)",
   "language": "python",
   "name": "python3"
  },
  "language_info": {
   "codemirror_mode": {
    "name": "ipython",
    "version": 3
   },
   "file_extension": ".py",
   "mimetype": "text/x-python",
   "name": "python",
   "nbconvert_exporter": "python",
   "pygments_lexer": "ipython3",
   "version": "3.12.0"
  }
 },
 "nbformat": 4,
 "nbformat_minor": 4
}
